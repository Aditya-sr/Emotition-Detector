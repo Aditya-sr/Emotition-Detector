{
 "cells": [
  {
   "cell_type": "code",
   "execution_count": 1,
   "id": "9aa7a45d",
   "metadata": {},
   "outputs": [],
   "source": [
    "import numpy as np # linear algebra\n",
    "import pandas as pd # data processing, CSV file I/O (e.g. pd.read_csv)\n",
    "import cv2"
   ]
  },
  {
   "cell_type": "code",
   "execution_count": 3,
   "id": "e86a5ddb",
   "metadata": {},
   "outputs": [],
   "source": [
    "df = pd.read_csv('fer2013.csv')"
   ]
  },
  {
   "cell_type": "code",
   "execution_count": 4,
   "id": "7227ac51",
   "metadata": {},
   "outputs": [
    {
     "data": {
      "text/plain": [
       "2304"
      ]
     },
     "execution_count": 4,
     "metadata": {},
     "output_type": "execute_result"
    }
   ],
   "source": [
    "len(df.iloc[0]['pixels'].split())"
   ]
  },
  {
   "cell_type": "code",
   "execution_count": 5,
   "id": "2533e68c",
   "metadata": {},
   "outputs": [],
   "source": [
    "label_map = ['Anger', 'Neutral', 'Fear', 'Happy', 'Sad', 'Surprise']"
   ]
  },
  {
   "cell_type": "code",
   "execution_count": 8,
   "id": "284408ef",
   "metadata": {},
   "outputs": [],
   "source": [
    "import matplotlib.pyplot as plt"
   ]
  },
  {
   "cell_type": "code",
   "execution_count": 9,
   "id": "fe994ffa",
   "metadata": {},
   "outputs": [],
   "source": [
    "img = df.iloc[0]['pixels'].split()"
   ]
  },
  {
   "cell_type": "code",
   "execution_count": 10,
   "id": "988be396",
   "metadata": {},
   "outputs": [],
   "source": [
    "img = [int(i) for i in img]"
   ]
  },
  {
   "cell_type": "code",
   "execution_count": 11,
   "id": "b38e6168",
   "metadata": {},
   "outputs": [
    {
     "data": {
      "text/plain": [
       "int"
      ]
     },
     "execution_count": 11,
     "metadata": {},
     "output_type": "execute_result"
    }
   ],
   "source": [
    "type(img[0])\n"
   ]
  },
  {
   "cell_type": "code",
   "execution_count": 12,
   "id": "01a3d1f8",
   "metadata": {},
   "outputs": [
    {
     "data": {
      "text/plain": [
       "2304"
      ]
     },
     "execution_count": 12,
     "metadata": {},
     "output_type": "execute_result"
    }
   ],
   "source": [
    "len(img)\n"
   ]
  },
  {
   "cell_type": "code",
   "execution_count": 13,
   "id": "401c17fe",
   "metadata": {},
   "outputs": [],
   "source": [
    "img = np.array(img)\n"
   ]
  },
  {
   "cell_type": "code",
   "execution_count": 14,
   "id": "c894793a",
   "metadata": {},
   "outputs": [],
   "source": [
    "img = img.reshape(48,48)\n"
   ]
  },
  {
   "cell_type": "code",
   "execution_count": 15,
   "id": "9234a975",
   "metadata": {},
   "outputs": [
    {
     "data": {
      "text/plain": [
       "(48, 48)"
      ]
     },
     "execution_count": 15,
     "metadata": {},
     "output_type": "execute_result"
    }
   ],
   "source": [
    "img.shape\n"
   ]
  },
  {
   "cell_type": "code",
   "execution_count": 16,
   "id": "8de1c420",
   "metadata": {},
   "outputs": [
    {
     "data": {
      "text/plain": [
       "Text(0.5, 0, '0')"
      ]
     },
     "execution_count": 16,
     "metadata": {},
     "output_type": "execute_result"
    },
    {
     "data": {
      "image/png": "[encoded data removed]",
      "text/plain": [
       "<Figure size 432x288 with 1 Axes>"
      ]
     },
     "metadata": {
      "needs_background": "light"
     },
     "output_type": "display_data"
    }
   ],
   "source": [
    "plt.imshow(img, cmap='gray')\n",
    "plt.xlabel(df.iloc[0]['emotion'])\n"
   ]
  },
  {
   "cell_type": "code",
   "execution_count": 17,
   "id": "6d5e6e70",
   "metadata": {},
   "outputs": [],
   "source": [
    "X = []\n",
    "y = []"
   ]
  },
  {
   "cell_type": "code",
   "execution_count": 18,
   "id": "9dace5ea",
   "metadata": {},
   "outputs": [],
   "source": [
    "def getData(path):\n",
    "    anger = 0\n",
    "    fear = 0\n",
    "    sad = 0\n",
    "    happy = 0\n",
    "    surprise = 0\n",
    "    neutral = 0\n",
    "    df = pd.read_csv(path)\n",
    "    \n",
    "    X = []\n",
    "    y = []    \n",
    "    \n",
    "    for i in range(len(df)):\n",
    "        if df.iloc[i]['emotion'] != 1:\n",
    "            if df.iloc[i]['emotion'] == 0:\n",
    "                if anger <= 4000:            \n",
    "                    y.append(df.iloc[i]['emotion'])\n",
    "                    im = df.iloc[i]['pixels']\n",
    "                    im = [int(x) for x in im.split()]\n",
    "                    X.append(im)\n",
    "                    anger += 1\n",
    "                else:\n",
    "                    pass\n",
    "                \n",
    "            if df.iloc[i]['emotion'] == 2:\n",
    "                if fear <= 4000:            \n",
    "                    y.append(df.iloc[i]['emotion'])\n",
    "                    im = df.iloc[i]['pixels']\n",
    "                    im = [int(x) for x in im.split()]\n",
    "                    X.append(im)\n",
    "                    fear += 1\n",
    "                else:\n",
    "                    pass\n",
    "                \n",
    "            if df.iloc[i]['emotion'] == 3:\n",
    "                if happy <= 4000:            \n",
    "                    y.append(df.iloc[i]['emotion'])\n",
    "                    im = df.iloc[i]['pixels']\n",
    "                    im = [int(x) for x in im.split()]\n",
    "                    X.append(im)\n",
    "                    happy += 1\n",
    "                else:\n",
    "                    pass\n",
    "                \n",
    "            if df.iloc[i]['emotion'] == 4:\n",
    "                if sad <= 4000:            \n",
    "                    y.append(df.iloc[i]['emotion'])\n",
    "                    im = df.iloc[i]['pixels']\n",
    "                    im = [int(x) for x in im.split()]\n",
    "                    X.append(im)\n",
    "                    sad += 1\n",
    "                else:\n",
    "                    pass\n",
    "                \n",
    "            if df.iloc[i]['emotion'] == 5:\n",
    "                if surprise <= 4000:            \n",
    "                    y.append(df.iloc[i]['emotion'])\n",
    "                    im = df.iloc[i]['pixels']\n",
    "                    im = [int(x) for x in im.split()]\n",
    "                    X.append(im)\n",
    "                    surprise += 1\n",
    "                else:\n",
    "                    pass\n",
    "                \n",
    "            if df.iloc[i]['emotion'] == 6:\n",
    "                if neutral <= 4000:            \n",
    "                    y.append(df.iloc[i]['emotion'])\n",
    "                    im = df.iloc[i]['pixels']\n",
    "                    im = [int(x) for x in im.split()]\n",
    "                    X.append(im)\n",
    "                    neutral += 1\n",
    "                else:\n",
    "                    pass\n",
    "\n",
    "            \n",
    "            \n",
    "    return X, y  \n",
    "    "
   ]
  },
  {
   "cell_type": "code",
   "execution_count": 21,
   "id": "680b9020",
   "metadata": {},
   "outputs": [],
   "source": [
    "X, y = getData('fer2013.csv')"
   ]
  },
  {
   "cell_type": "code",
   "execution_count": 24,
   "id": "b1774832",
   "metadata": {},
   "outputs": [
    {
     "data": {
      "text/plain": [
       "(array([0, 2, 3, 4, 5, 6], dtype=int64),\n",
       " array([4001, 4001, 4001, 4001, 4001, 4001], dtype=int64))"
      ]
     },
     "execution_count": 24,
     "metadata": {},
     "output_type": "execute_result"
    }
   ],
   "source": [
    "np.unique(y, return_counts=True)\n"
   ]
  },
  {
   "cell_type": "code",
   "execution_count": 25,
   "id": "0774a224",
   "metadata": {},
   "outputs": [],
   "source": [
    "X = np.array(X)/255.0\n",
    "y = np.array(y)"
   ]
  },
  {
   "cell_type": "code",
   "execution_count": 26,
   "id": "23d653c4",
   "metadata": {},
   "outputs": [],
   "source": [
    "y_o = []\n",
    "for i in y:\n",
    "    if i != 6:\n",
    "        y_o.append(i)\n",
    "        \n",
    "    else:\n",
    "        y_o.append(1)"
   ]
  },
  {
   "cell_type": "code",
   "execution_count": 28,
   "id": "eb0dcb9e",
   "metadata": {},
   "outputs": [
    {
     "data": {
      "text/plain": [
       "(array([0, 1, 2, 3, 4, 5], dtype=int64),\n",
       " array([4001, 4001, 4001, 4001, 4001, 4001], dtype=int64))"
      ]
     },
     "execution_count": 28,
     "metadata": {},
     "output_type": "execute_result"
    }
   ],
   "source": [
    "np.unique(y_o, return_counts=True)"
   ]
  },
  {
   "cell_type": "code",
   "execution_count": 29,
   "id": "8815f88d",
   "metadata": {},
   "outputs": [
    {
     "data": {
      "image/png": "[encoded data removed]",
      "text/plain": [
       "<Figure size 432x288 with 1 Axes>"
      ]
     },
     "metadata": {
      "needs_background": "light"
     },
     "output_type": "display_data"
    },
    {
     "data": {
      "image/png": "[encoded data removed]",
      "text/plain": [
       "<Figure size 432x288 with 1 Axes>"
      ]
     },
     "metadata": {
      "needs_background": "light"
     },
     "output_type": "display_data"
    },
    {
     "data": {
      "image/png": "[encoded data removed]",
      "text/plain": [
       "<Figure size 432x288 with 1 Axes>"
      ]
     },
     "metadata": {
      "needs_background": "light"
     },
     "output_type": "display_data"
    },
    {
     "data": {
      "image/png": "[encoded data removed]",
      "text/plain": [
       "<Figure size 432x288 with 1 Axes>"
      ]
     },
     "metadata": {
      "needs_background": "light"
     },
     "output_type": "display_data"
    },
    {
     "data": {
      "image/png": "[encoded data removed]",
      "text/plain": [
       "<Figure size 432x288 with 1 Axes>"
      ]
     },
     "metadata": {
      "needs_background": "light"
     },
     "output_type": "display_data"
    }
   ],
   "source": [
    "for i in range(5):\n",
    "    r = np.random.randint((1), 24000, 1)[0]\n",
    "    plt.figure()\n",
    "    plt.imshow(X[r].reshape(48,48), cmap='gray')\n",
    "    plt.xlabel(label_map[y_o[r]])"
   ]
  },
  {
   "cell_type": "code",
   "execution_count": 30,
   "id": "c582d606",
   "metadata": {},
   "outputs": [],
   "source": [
    "X = X.reshape(len(X), 48, 48, 1)"
   ]
  },
  {
   "cell_type": "code",
   "execution_count": 31,
   "id": "69a35357",
   "metadata": {},
   "outputs": [],
   "source": [
    "from tensorflow.keras.utils import to_categorical\n",
    "y_new = to_categorical(y_o, num_classes=6)\n"
   ]
  },
  {
   "cell_type": "code",
   "execution_count": 34,
   "id": "60525e24",
   "metadata": {},
   "outputs": [
    {
     "data": {
      "text/plain": [
       "(0, array([1., 0., 0., 0., 0., 0.], dtype=float32))"
      ]
     },
     "execution_count": 34,
     "metadata": {},
     "output_type": "execute_result"
    }
   ],
   "source": [
    "y_o[150], y_new[150]\n"
   ]
  },
  {
   "cell_type": "code",
   "execution_count": 36,
   "id": "a312e9be",
   "metadata": {},
   "outputs": [],
   "source": [
    "from keras.models import Sequential\n",
    "from keras.layers import Dense , Activation , Dropout ,Flatten\n",
    "from keras.layers.convolutional import Conv2D\n",
    "from keras.layers.convolutional import MaxPooling2D\n",
    "from keras.metrics import categorical_accuracy\n",
    "from keras.models import model_from_json\n",
    "from keras.callbacks import ModelCheckpoint\n",
    "from keras.optimizers import *\n",
    "\n",
    "from tensorflow.keras.layers import BatchNormalization\n"
   ]
  },
  {
   "cell_type": "code",
   "execution_count": 39,
   "id": "7d37091a",
   "metadata": {},
   "outputs": [],
   "source": [
    "model = Sequential()\n",
    "\n",
    "\n",
    "input_shape = (48,48,1)\n",
    "\n",
    "\n",
    "model.add(Conv2D(64, (5, 5), input_shape=input_shape,activation='relu', padding='same'))\n",
    "model.add(Conv2D(64, (5, 5), padding='same'))\n",
    "model.add(BatchNormalization())\n",
    "model.add(Activation('relu'))\n",
    "model.add(MaxPooling2D(pool_size=(2, 2)))\n",
    "\n",
    "\n",
    "model.add(Conv2D(128, (5, 5),activation='relu',padding='same'))\n",
    "model.add(Conv2D(128, (5, 5),padding='same'))\n",
    "model.add(BatchNormalization())\n",
    "model.add(Activation('relu'))\n",
    "model.add(MaxPooling2D(pool_size=(2, 2)))\n",
    "\n",
    "model.add(Conv2D(256, (3, 3),activation='relu',padding='same'))\n",
    "model.add(Conv2D(256, (3, 3),activation='relu',padding='same'))\n",
    "model.add(BatchNormalization())\n",
    "model.add(MaxPooling2D(pool_size=(2, 2)))\n",
    "\n",
    "## (15, 15) --->  30\n",
    "model.add(Flatten())\n",
    "model.add(Dense(6, activation='softmax'))\n",
    "\n",
    "model.compile(loss='categorical_crossentropy', metrics=['accuracy'],optimizer='adam')"
   ]
  },
  {
   "cell_type": "code",
   "execution_count": 42,
   "id": "3e2aef59",
   "metadata": {},
   "outputs": [
    {
     "ename": "AttributeError",
     "evalue": "'numpy.ndarray' object has no attribute 'batch'",
     "output_type": "error",
     "traceback": [
      "\u001b[1;31m---------------------------------------------------------------------------\u001b[0m",
      "\u001b[1;31mAttributeError\u001b[0m                            Traceback (most recent call last)",
      "\u001b[1;32m<ipython-input-42-cf7e58f9414b>\u001b[0m in \u001b[0;36m<module>\u001b[1;34m\u001b[0m\n\u001b[0;32m      1\u001b[0m \u001b[0mBATCH_SIZE\u001b[0m \u001b[1;33m=\u001b[0m \u001b[1;36m100\u001b[0m\u001b[1;33m\u001b[0m\u001b[1;33m\u001b[0m\u001b[0m\n\u001b[1;32m----> 2\u001b[1;33m \u001b[0mX\u001b[0m \u001b[1;33m=\u001b[0m \u001b[0mX\u001b[0m\u001b[1;33m.\u001b[0m\u001b[0mbatch\u001b[0m\u001b[1;33m(\u001b[0m\u001b[0mBATCH_SIZE\u001b[0m\u001b[1;33m)\u001b[0m\u001b[1;33m\u001b[0m\u001b[1;33m\u001b[0m\u001b[0m\n\u001b[0m\u001b[0;32m      3\u001b[0m \u001b[0mvalidation_data\u001b[0m \u001b[1;33m=\u001b[0m \u001b[0mvalidation_data\u001b[0m\u001b[1;33m.\u001b[0m\u001b[0mbatch\u001b[0m\u001b[1;33m(\u001b[0m\u001b[0mBATCH_SIZE\u001b[0m\u001b[1;33m)\u001b[0m\u001b[1;33m\u001b[0m\u001b[1;33m\u001b[0m\u001b[0m\n\u001b[0;32m      4\u001b[0m \u001b[1;33m...\u001b[0m\u001b[1;33m\u001b[0m\u001b[1;33m\u001b[0m\u001b[0m\n\u001b[0;32m      5\u001b[0m \u001b[0mmodel\u001b[0m\u001b[1;33m.\u001b[0m\u001b[0mfit\u001b[0m\u001b[1;33m(\u001b[0m\u001b[0mX\u001b[0m\u001b[1;33m,\u001b[0m\u001b[0my_new\u001b[0m\u001b[1;33m,\u001b[0m \u001b[0mepochs\u001b[0m\u001b[1;33m=\u001b[0m\u001b[0mNUM_EPOCHS\u001b[0m\u001b[1;33m,\u001b[0m \u001b[0mvalidation_data\u001b[0m\u001b[1;33m=\u001b[0m\u001b[0mvalidation_data\u001b[0m\u001b[1;33m,\u001b[0m\u001b[0mvalidation_steps\u001b[0m\u001b[1;33m=\u001b[0m\u001b[1;36m1\u001b[0m\u001b[1;33m)\u001b[0m\u001b[1;33m\u001b[0m\u001b[1;33m\u001b[0m\u001b[0m\n",
      "\u001b[1;31mAttributeError\u001b[0m: 'numpy.ndarray' object has no attribute 'batch'"
     ]
    }
   ],
   "source": []
  },
  {
   "cell_type": "code",
   "execution_count": null,
   "id": "569f9d6d",
   "metadata": {},
   "outputs": [],
   "source": []
  }
 ],
 "metadata": {
  "kernelspec": {
   "display_name": "Python 3",
   "language": "python",
   "name": "python3"
  },
  "language_info": {
   "codemirror_mode": {
    "name": "ipython",
    "version": 3
   },
   "file_extension": ".py",
   "mimetype": "text/x-python",
   "name": "python",
   "nbconvert_exporter": "python",
   "pygments_lexer": "ipython3",
   "version": "3.8.8"
  }
 },
 "nbformat": 4,
 "nbformat_minor": 5
}
